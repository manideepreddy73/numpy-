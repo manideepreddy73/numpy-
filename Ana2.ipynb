{
 "cells": [
  {
   "cell_type": "code",
   "execution_count": 1,
   "id": "4b273f52",
   "metadata": {},
   "outputs": [
    {
     "name": "stdout",
     "output_type": "stream",
     "text": [
      "2\n",
      "(3, 3)\n",
      "9\n",
      "int32\n",
      "<class 'numpy.ndarray'>\n"
     ]
    }
   ],
   "source": [
    "#numpy\n",
    "import numpy as np\n",
    "\n",
    "#ndim()-Displays the dimensin of array\n",
    "a=np.array([[1,2,3],[6,7,9],[54,2,5]])\n",
    "print(np.ndim(a))\n",
    "\n",
    "#shape()-Displays No.of rows and coloums in array\n",
    "print(np.shape(a))\n",
    "\n",
    "#size()-Display number of elements in the array\n",
    "print(np.size(a))\n",
    "\n",
    "#dtype()-Displays the data type\n",
    "print(a.dtype)\n",
    "\n",
    "print(type(a))"
   ]
  },
  {
   "cell_type": "code",
   "execution_count": 12,
   "id": "48db8500",
   "metadata": {},
   "outputs": [
    {
     "name": "stdout",
     "output_type": "stream",
     "text": [
      "[[0 0 0]\n",
      " [0 0 0]\n",
      " [0 0 0]]\n",
      "[[1 1 1 1]\n",
      " [1 1 1 1]\n",
      " [1 1 1 1]\n",
      " [1 1 1 1]]\n"
     ]
    }
   ],
   "source": [
    "z=np.zeros([3,3],int)\n",
    "print(z)\n",
    "o=np.ones([4,4],int)\n",
    "print(o)"
   ]
  },
  {
   "cell_type": "code",
   "execution_count": 3,
   "id": "c4dbfc79",
   "metadata": {},
   "outputs": [
    {
     "name": "stdout",
     "output_type": "stream",
     "text": [
      "[1 2 3 4 5 6 7]\n",
      "[[1 2 3 4]\n",
      " [5 6 7 8]]\n",
      "\n",
      "-----------------------------------\n",
      "[1 3 5 7]\n",
      "[1 3 5 7]\n",
      "\n",
      "----------------------------------\n"
     ]
    }
   ],
   "source": [
    "#1-d array\n",
    "b=np.array([1,2,3,4,5,6,7])\n",
    "#2-d array\n",
    "c=np.array([[1,2,3,4],[5,6,7,8]])\n",
    "print(b)\n",
    "print(c)\n",
    "print(\"\\n-----------------------------------\")\n",
    "#slicing\n",
    "print(b[0:8:2])\n",
    "print(b[::2])\n",
    "print(\"\\n----------------------------------\")"
   ]
  },
  {
   "cell_type": "code",
   "execution_count": 4,
   "id": "a7e2ecac",
   "metadata": {},
   "outputs": [
    {
     "name": "stdout",
     "output_type": "stream",
     "text": [
      "['odd' 'even' 'odd' 'even' 'odd' 'even' 'odd' 'even' 'odd' 'even']\n",
      "Before checking\n",
      "     Name  Age\n",
      "0   Mani   21\n",
      "1   Rani   14\n",
      "2  Reddy   17\n",
      "3  Shyam   32\n",
      "After checking:\n",
      "     Name  Age   Eligibility\n",
      "0   Mani   21      Eligible\n",
      "1   Rani   14  Not Eligible\n",
      "2  Reddy   17  Not Eligible\n",
      "3  Shyam   32      Eligible\n"
     ]
    }
   ],
   "source": [
    "#Basic functions\n",
    "#where()-replaces or processes the elements of numpy array which satisfies the condition\n",
    "d=np.array([1,2,3,4,5,6,7,8,9,10])\n",
    "print(np.where(d%2==0,\"even\",\"odd\"))#[where(condition,if true this will print,else this will print)]\n",
    "\n",
    "#Dataframing\n",
    "import pandas as pd\n",
    "data=pd.DataFrame({\"Name\":[\"Mani\",\"Rani\",\"Reddy\",\"Shyam\"],\"Age\":[21,14,17,32]}) #data framing from pandas\n",
    "print(\"Before checking\\n\",data)\n",
    "data[\"Eligibility\"]=np.where(data[\"Age\"]>=18,\"Eligible\",\"Not Eligible\")\n",
    "print(\"After checking:\\n\",data)"
   ]
  },
  {
   "cell_type": "code",
   "execution_count": 5,
   "id": "91f425a4",
   "metadata": {},
   "outputs": [
    {
     "name": "stdout",
     "output_type": "stream",
     "text": [
      "input Array: [ 11.033      3.808     54.1234   333.123489]\n",
      "\n",
      "After rounding:\n",
      "[ 11.03   3.81  54.12 333.12]\n",
      "[ 10.   0.  50. 330.]\n"
     ]
    }
   ],
   "source": [
    "#Functions of Rounding\n",
    "e=np.array([11.033,3.808,54.1234,333.123489])\n",
    "print(\"input Array:\",e)\n",
    "\n",
    "print(\"\\nAfter rounding:\")\n",
    "print(np.around(e,2,))  #around(arrayName,No.of decimals )\n",
    "print(np.around(e,decimals=-1))"
   ]
  },
  {
   "cell_type": "code",
   "execution_count": 6,
   "id": "1f7c0182",
   "metadata": {},
   "outputs": [
    {
     "name": "stdout",
     "output_type": "stream",
     "text": [
      "[ 1. 33.  7.  8.  0.]\n",
      "[ 2. 34.  7.  9.  1.]\n"
     ]
    }
   ],
   "source": [
    "#floor()-returns floor value of a decimal\n",
    "f=[1.22,33.66,7,8.95,0.9876]\n",
    "f1=np.floor(f)\n",
    "print(f1)\n",
    "\n",
    "#ceil()-returns higher round figure \n",
    "f2=np.ceil(f)\n",
    "print(f2)"
   ]
  },
  {
   "cell_type": "code",
   "execution_count": 7,
   "id": "9c62fb1d",
   "metadata": {},
   "outputs": [
    {
     "name": "stdout",
     "output_type": "stream",
     "text": [
      "45\n",
      "5.0\n",
      "---------------------------------------\n",
      "5.0\n",
      "2.581988897471611\n",
      "[ 6.  2.  5.  7. 22.]\n",
      "[3. 9. 7.]\n"
     ]
    }
   ],
   "source": [
    "#Statistical functions\n",
    "g=np.array([1,2,3,4,5,6,7,8,9])\n",
    "print(np.sum(g))\n",
    "print(np.mean(g))\n",
    "print(\"---------------------------------------\")\n",
    "print(np.median(g)) \n",
    "g2=np.array([[1,2,3,4,5],[6,7,9,65,33],[54,2,5,7,22]])\n",
    "print(np.std(g))    #Standard deviation\n",
    "# for 2 d arrays\n",
    "print(np.median(g2,axis=0))  #for each nth element each sub-array\n",
    "print(np.median(g2,axis=1))   #for different sub-arrays\n"
   ]
  },
  {
   "cell_type": "code",
   "execution_count": 17,
   "id": "f9d3c235",
   "metadata": {},
   "outputs": [
    {
     "name": "stdout",
     "output_type": "stream",
     "text": [
      "[[1 2 3]\n",
      " [4 5 6]\n",
      " [7 8 9]]\n",
      "(3, 3)\n"
     ]
    }
   ],
   "source": [
    "#arange()\n",
    "#reshape()\n",
    "#creating matrix using numpy\n",
    "matrix=np.arange(1,10).reshape((3,3))\n",
    "print(matrix)\n",
    "print(np.shape(matrix))"
   ]
  },
  {
   "cell_type": "code",
   "execution_count": 26,
   "id": "9f9b5cd6",
   "metadata": {},
   "outputs": [
    {
     "name": "stdout",
     "output_type": "stream",
     "text": [
      "7\n",
      "[1 4 7]\n",
      "[1 2 3]\n",
      "[2 5 8]\n"
     ]
    }
   ],
   "source": [
    "#take()\n",
    "print(matrix.take(6))\n",
    "print(matrix.take(0,axis=1))\n",
    "print(matrix.take(0,axis=0))\n",
    "print(matrix.take(1,axis=1))"
   ]
  },
  {
   "cell_type": "code",
   "execution_count": 28,
   "id": "040ead79",
   "metadata": {},
   "outputs": [
    {
     "name": "stdout",
     "output_type": "stream",
     "text": [
      "15\n",
      "[1 5 9]\n"
     ]
    }
   ],
   "source": [
    "#trace()-prints sum of diagonal elements\n",
    "#diagonal()-prints diagonal elements\n",
    "print(np.trace(matrix))\n",
    "print(np.diagonal(matrix))"
   ]
  },
  {
   "cell_type": "code",
   "execution_count": 46,
   "id": "3e7cbfda",
   "metadata": {},
   "outputs": [
    {
     "name": "stdout",
     "output_type": "stream",
     "text": [
      "[[10 11 12]\n",
      " [13 14 15]\n",
      " [16 17 18]]\n",
      "-------------------------\n",
      "[[11 13 15]\n",
      " [17 19 21]\n",
      " [23 25 27]]\n",
      "-------------------------\n",
      "[[-9 -9 -9]\n",
      " [-9 -9 -9]\n",
      " [-9 -9 -9]]\n",
      "-------------------------\n",
      "[[ 84  90  96]\n",
      " [201 216 231]\n",
      " [318 342 366]]\n"
     ]
    }
   ],
   "source": [
    "#matrix add,sub,mult\n",
    "matrix1=np.arange(10,19).reshape(3,3)\n",
    "print(matrix1)\n",
    "print(\"-------------------------\")\n",
    "print(np.add(matrix,matrix1))\n",
    "print(\"-------------------------\")\n",
    "print(np.subtract(matrix,matrix1))\n",
    "print(\"-------------------------\")\n",
    "print(np.dot(matrix,matrix1))"
   ]
  },
  {
   "cell_type": "code",
   "execution_count": 47,
   "id": "1af1423e",
   "metadata": {},
   "outputs": [
    {
     "name": "stdout",
     "output_type": "stream",
     "text": [
      "[[1 2 3]\n",
      " [4 5 6]\n",
      " [7 8 9]]\n",
      "-----------------------------------\n",
      "[[1 2 3 0]\n",
      " [4 5 6 0]\n",
      " [7 8 9 0]]\n",
      "=----------------------------------\n",
      "[[1 2 3]\n",
      " [4 5 6]\n",
      " [7 8 9]\n",
      " [0 0 0]]\n"
     ]
    }
   ],
   "source": [
    "#Addding rows/columns to an array\n",
    "#using column_stack()\n",
    "m1=np.arange(1,10).reshape(3,3)\n",
    "print(m1)\n",
    "print(\"-----------------------------------\")\n",
    "add=np.array([0,0,0])\n",
    "result=np.column_stack((m1,add))\n",
    "print(result)\n",
    "print(\"=----------------------------------\")\n",
    "#using vstack()\n",
    "print(np.vstack((m1,add)))"
   ]
  },
  {
   "cell_type": "code",
   "execution_count": 48,
   "id": "372afe33",
   "metadata": {},
   "outputs": [
    {
     "name": "stdout",
     "output_type": "stream",
     "text": [
      "[]\n",
      "-------------------\n",
      "[[1 5 9]\n",
      " [5 1 9]\n",
      " [9 5 1]]\n"
     ]
    }
   ],
   "source": [
    "#adding new rows to empty array \n",
    "#append()\n",
    "empty=np.empty((0,3),int)  #3-Darray\n",
    "print(empty)\n",
    "print(\"-------------------\")\n",
    "empty=np.append(empty,np.array([[1,5,9]]),axis=0)\n",
    "empty=np.append(empty,np.array([[5,1,9]]),axis=0)\n",
    "empty=np.append(empty,np.array([[9,5,1]]),axis=0)\n",
    "print(empty)"
   ]
  },
  {
   "cell_type": "code",
   "execution_count": 56,
   "id": "2e1cfd05",
   "metadata": {},
   "outputs": [
    {
     "name": "stdout",
     "output_type": "stream",
     "text": [
      "[-0.37228132  5.37228132]\n",
      "[-0.37228132  5.37228132]\n",
      "---------------------------------\n",
      "-2.0000000000000004\n",
      "-2.0000000000000004\n"
     ]
    }
   ],
   "source": [
    "#finding eigen value of matrix\n",
    "#eigvals()\n",
    "from numpy import linalg as LA\n",
    "eigen=LA.eigvals([[1,2],[3,4]])\n",
    "e3=np.linalg.eigvals([[1,2],[3,4]])\n",
    "print(eigen)\n",
    "print(e3)\n",
    "print(\"---------------------------------\")\n",
    "#finding determinant\n",
    "print(np.linalg.det([[1,2],[3,4]]))\n",
    "print(LA.det([[1,2],[3,4]]))"
   ]
  },
  {
   "cell_type": "code",
   "execution_count": 58,
   "id": "a1c22053",
   "metadata": {},
   "outputs": [
    {
     "name": "stdout",
     "output_type": "stream",
     "text": [
      "[[ 0.17647059 -0.00326797 -0.02287582]\n",
      " [ 0.05882353 -0.13071895  0.08496732]\n",
      " [-0.11764706  0.1503268   0.05228758]]\n"
     ]
    }
   ],
   "source": [
    "# Python program to inverse\n",
    "A = np.array([[6, 1, 1],\n",
    "\t\t\t[4, -2, 5],\n",
    "\t\t\t[2, 8, 7]])\n",
    "print(np.linalg.inv(A))"
   ]
  },
  {
   "cell_type": "code",
   "execution_count": 64,
   "id": "d4deb8da",
   "metadata": {},
   "outputs": [
    {
     "name": "stdout",
     "output_type": "stream",
     "text": [
      "[[1 1]\n",
      " [2 3]\n",
      " [3 2]\n",
      " [4 1]\n",
      " [5 4]\n",
      " [6 1]\n",
      " [7 1]\n",
      " [8 1]]\n"
     ]
    }
   ],
   "source": [
    "#calculating frequency of each element in an array\n",
    "#unique()\n",
    "fre=np.array([1,2,3,4,5,3,2,2,6,7,8,5,5,5])\n",
    "unique,frequency=np.unique(fre,return_counts=True)\n",
    "\n",
    "result=np.array((unique,frequency)).T\n",
    "print(result)"
   ]
  },
  {
   "cell_type": "code",
   "execution_count": 65,
   "id": "9ad1a924",
   "metadata": {},
   "outputs": [
    {
     "name": "stdout",
     "output_type": "stream",
     "text": [
      "(137+29j)\n"
     ]
    }
   ],
   "source": [
    "#multiplying Complex number matrix\n",
    "#vdot()\n",
    "c1=np.array([[2+3j,4+5j],[4+5j,6+7j]])\n",
    "c2=np.array([[2+2j,2+9j],[1+5j,4+3j]])\n",
    "complex=np.vdot(c1,c2)\n",
    "print(complex)"
   ]
  },
  {
   "cell_type": "code",
   "execution_count": 67,
   "id": "609f9a30",
   "metadata": {},
   "outputs": [
    {
     "name": "stdout",
     "output_type": "stream",
     "text": [
      "[[ 0  1  1  9]\n",
      " [ 0  3  3 27]\n",
      " [ 0  2  2 18]\n",
      " [ 0  6  6 54]]\n",
      "-----------------------\n",
      "[[ 3 28]\n",
      " [ 6 56]]\n",
      "-----------------------\n",
      "[ 1 12]\n"
     ]
    }
   ],
   "source": [
    "#finding outer,inner,crossProduct of two vectors/Matrix\n",
    "#outer(),inner(),cross()\n",
    "matrix1 = np.array([[1, 3], [2, 6]])\n",
    "matrix2 = np.array([[0, 1], [1, 9]])\n",
    "print(np.outer(matrix1,matrix2))\n",
    "print(\"-----------------------\")\n",
    "print(np.inner(matrix1,matrix2))\n",
    "print(\"-----------------------\")\n",
    "print(np.cross(matrix1,matrix2))"
   ]
  },
  {
   "cell_type": "code",
   "execution_count": 70,
   "id": "3f292b55",
   "metadata": {},
   "outputs": [
    {
     "name": "stdout",
     "output_type": "stream",
     "text": [
      "[[ 2.   4.   1.   8. ]\n",
      " [ 4.   8.   2.  16. ]\n",
      " [ 1.   2.   0.5  4. ]\n",
      " [ 8.  16.   4.  32. ]] <class 'int'>\n"
     ]
    }
   ],
   "source": [
    "#Covarience matrix of arrays\n",
    "#cov()\n",
    "print(np.cov(matrix1,matrix2))"
   ]
  },
  {
   "cell_type": "code",
   "execution_count": 78,
   "id": "890a4299",
   "metadata": {},
   "outputs": [
    {
     "ename": "AttributeError",
     "evalue": "'list' object has no attribute 'T'",
     "output_type": "error",
     "traceback": [
      "\u001b[1;31m---------------------------------------------------------------------------\u001b[0m",
      "\u001b[1;31mAttributeError\u001b[0m                            Traceback (most recent call last)",
      "\u001b[1;32m<ipython-input-78-ecbbef3e7c06>\u001b[0m in \u001b[0;36m<module>\u001b[1;34m\u001b[0m\n\u001b[0;32m      2\u001b[0m \u001b[1;31m#tolist()\u001b[0m\u001b[1;33m\u001b[0m\u001b[1;33m\u001b[0m\u001b[1;33m\u001b[0m\u001b[0m\n\u001b[0;32m      3\u001b[0m \u001b[0mmatrix1\u001b[0m \u001b[1;33m=\u001b[0m \u001b[0mnp\u001b[0m\u001b[1;33m.\u001b[0m\u001b[0mmatrix\u001b[0m\u001b[1;33m(\u001b[0m\u001b[1;34m'[1,2,3 ; 4,5,6 ; 6 ,7,8]'\u001b[0m\u001b[1;33m)\u001b[0m\u001b[1;33m\u001b[0m\u001b[1;33m\u001b[0m\u001b[0m\n\u001b[1;32m----> 4\u001b[1;33m \u001b[0mlist\u001b[0m\u001b[1;33m=\u001b[0m\u001b[0mmatrix1\u001b[0m\u001b[1;33m.\u001b[0m\u001b[0mtolist\u001b[0m\u001b[1;33m(\u001b[0m\u001b[1;33m)\u001b[0m\u001b[1;33m.\u001b[0m\u001b[0mT\u001b[0m\u001b[1;33m\u001b[0m\u001b[1;33m\u001b[0m\u001b[0m\n\u001b[0m\u001b[0;32m      5\u001b[0m \u001b[0mprint\u001b[0m\u001b[1;33m(\u001b[0m\u001b[0mmatrix1\u001b[0m\u001b[1;33m)\u001b[0m\u001b[1;33m\u001b[0m\u001b[1;33m\u001b[0m\u001b[0m\n\u001b[0;32m      6\u001b[0m \u001b[0mprint\u001b[0m\u001b[1;33m(\u001b[0m\u001b[1;34m\"-------------------------\"\u001b[0m\u001b[1;33m)\u001b[0m\u001b[1;33m\u001b[0m\u001b[1;33m\u001b[0m\u001b[0m\n",
      "\u001b[1;31mAttributeError\u001b[0m: 'list' object has no attribute 'T'"
     ]
    }
   ],
   "source": [
    "#Converting matrix to list\n",
    "#tolist()\n",
    "matrix1 = np.matrix('[1,2,3 ; 4,5,6 ; 6 ,7,8]')\n",
    "list=matrix1.tolist()\n",
    "print(matrix1)\n",
    "print(\"-------------------------\")\n",
    "print(list)"
   ]
  },
  {
   "cell_type": "code",
   "execution_count": null,
   "id": "5896fffd",
   "metadata": {},
   "outputs": [],
   "source": []
  }
 ],
 "metadata": {
  "kernelspec": {
   "display_name": "Python 3",
   "language": "python",
   "name": "python3"
  },
  "language_info": {
   "codemirror_mode": {
    "name": "ipython",
    "version": 3
   },
   "file_extension": ".py",
   "mimetype": "text/x-python",
   "name": "python",
   "nbconvert_exporter": "python",
   "pygments_lexer": "ipython3",
   "version": "3.8.8"
  }
 },
 "nbformat": 4,
 "nbformat_minor": 5
}
